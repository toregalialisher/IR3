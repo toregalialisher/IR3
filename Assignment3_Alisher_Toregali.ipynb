{
 "cells": [
  {
   "cell_type": "code",
   "execution_count": 1,
   "id": "96655dc8",
   "metadata": {},
   "outputs": [],
   "source": [
    "from catboost import CatBoostRanker, Pool, MetricVisualizer\n",
    "from copy import deepcopy\n",
    "import numpy as np\n",
    "import os\n",
    "import pandas as pd"
   ]
  },
  {
   "cell_type": "code",
   "execution_count": 2,
   "id": "27cd2863",
   "metadata": {},
   "outputs": [],
   "source": [
    "train_df = pd.read_csv(\"imat2009_train_new.txt\", header = None)\n",
    "test_df = pd.read_csv(\"imat2009_test_new.txt\", header = None)"
   ]
  },
  {
   "cell_type": "code",
   "execution_count": 3,
   "id": "92af8a89",
   "metadata": {},
   "outputs": [],
   "source": [
    "X_train = np.zeros((train_df.shape[0], 245))\n",
    "y_train = np.zeros((train_df.shape[0]))\n",
    "queries_train = np.zeros((train_df.shape[0]))\n",
    "queries_train = queries_train.astype(np.int64)\n",
    "\n",
    "X_test = np.zeros((test_df.shape[0], 245))\n",
    "y_test = np.zeros((test_df.shape[0]))\n",
    "queries_test = np.zeros((test_df.shape[0]))\n",
    "queries_test = queries_test.astype(np.int64)"
   ]
  },
  {
   "cell_type": "code",
   "execution_count": 4,
   "id": "960b2ebc",
   "metadata": {},
   "outputs": [],
   "source": [
    "for i in range(0, train_df.shape[0]):\n",
    "    splitted = train_df[0][i].split()\n",
    "    for j in range(0, len(splitted) - 1):\n",
    "        if j == 0:\n",
    "            y_train[i] = float(splitted[j])\n",
    "            y_train[i] = y_train[i].astype('float64')\n",
    "        elif splitted[j] == '#':\n",
    "            queries_train[i] = int(splitted[j + 1])\n",
    "            break\n",
    "        else:\n",
    "            temp = ''\n",
    "            for x in splitted[j]:\n",
    "                if x == ':':\n",
    "                    feat_ind = int(temp)\n",
    "                    temp = ''\n",
    "                else:\n",
    "                    temp += str(x)\n",
    "            X_train[i][feat_ind - 1] = float(temp)"
   ]
  },
  {
   "cell_type": "code",
   "execution_count": 5,
   "id": "b7acd893",
   "metadata": {},
   "outputs": [
    {
     "name": "stdout",
     "output_type": "stream",
     "text": [
      "6.27 s ± 36.6 ms per loop (mean ± std. dev. of 7 runs, 1 loop each)\n"
     ]
    }
   ],
   "source": [
    "for i in range(0, test_df.shape[0]):\n",
    "    splitted = test_df[0][i].split()\n",
    "    for j in range(0, len(splitted) - 1):\n",
    "        if j == 0:\n",
    "            y_test[i] = float(splitted[j])\n",
    "            y_test[i] = y_test[i].astype('float64')\n",
    "        elif splitted[j] == '#':\n",
    "            queries_test[i] = int(splitted[j + 1])\n",
    "            break\n",
    "        else:\n",
    "            temp = ''\n",
    "            for x in splitted[j]:\n",
    "                if x == ':':\n",
    "                    feat_ind = int(temp)\n",
    "                    temp = ''\n",
    "                else:\n",
    "                    temp += str(x)\n",
    "            X_test[i][feat_ind - 1] = float(temp)"
   ]
  },
  {
   "cell_type": "code",
   "execution_count": 24,
   "id": "0b765c9e",
   "metadata": {},
   "outputs": [
    {
     "name": "stdout",
     "output_type": "stream",
     "text": [
      "77714\n"
     ]
    }
   ],
   "source": [
    "num_documents = X_train.shape[0]\n",
    "print(num_documents)"
   ]
  },
  {
   "cell_type": "code",
   "execution_count": 11,
   "id": "1b5a932a",
   "metadata": {},
   "outputs": [
    {
     "name": "stdout",
     "output_type": "stream",
     "text": [
      "CPU times: total: 0 ns\n",
      "Wall time: 0 ns\n"
     ]
    },
    {
     "data": {
      "text/plain": [
       "245"
      ]
     },
     "execution_count": 11,
     "metadata": {},
     "output_type": "execute_result"
    }
   ],
   "source": [
    "X_train.shape[1]"
   ]
  },
  {
   "cell_type": "code",
   "execution_count": 13,
   "id": "1a6a83e2",
   "metadata": {},
   "outputs": [
    {
     "data": {
      "text/plain": [
       "dict_items([(1.0, 20086), (0.0, 25776), (2.0, 24424), (4.0, 952), (3.0, 1744), (0.5, 1982), (1.5, 1033), (0.25, 77), (1.33333, 110), (1.2, 3), (2.37037, 39), (0.666671, 340), (2.33333, 79), (0.333329, 268), (2.16049, 19), (2.5, 337), (2.87037, 26), (1.66667, 107), (2.12037, 4), (2.25, 19), (2.24074, 25), (0.2, 10), (1.6, 6), (0.8, 5), (0.6, 10), (0.875, 1), (2.66667, 31), (3.1625, 2), (1.75, 12), (0.75, 55), (2.61111, 4), (0.222229, 1), (0.4, 5), (1.25, 23), (1.97143, 2), (3.5, 16), (2.24691, 10), (2.16667, 1), (1.95239, 1), (1.4, 4), (3.66667, 5), (3.8, 2), (0.125, 1), (2.05556, 2), (3.33333, 4), (2.2, 5), (2.58025, 2), (1.16667, 2), (2.91358, 1), (2.07407, 3), (2.11729, 1), (3.25, 1), (2.375, 1), (3.21666, 1), (2.74074, 5), (2.12346, 3), (0.166671, 8), (0.833329, 5), (1.14286, 1), (3.53, 1), (3.4, 1), (2.75, 1), (3.58125, 1), (2.40741, 1), (0.583329, 1), (1.8, 1), (2.42857, 1), (2.0463, 1), (1.77143, 1), (3.75, 1), (0.888886, 1)])"
      ]
     },
     "execution_count": 13,
     "metadata": {},
     "output_type": "execute_result"
    }
   ],
   "source": [
    "from collections import Counter\n",
    "Counter(y_train).items()"
   ]
  },
  {
   "cell_type": "code",
   "execution_count": 14,
   "id": "e12b0faf",
   "metadata": {},
   "outputs": [
    {
     "name": "stdout",
     "output_type": "stream",
     "text": [
      "4.0\n"
     ]
    }
   ],
   "source": [
    "max_relevance = np.max(y_train)\n",
    "print(max_relevance)\n",
    "y_train /= max_relevance\n",
    "y_test /= max_relevance"
   ]
  },
  {
   "cell_type": "code",
   "execution_count": 15,
   "id": "fed921e7",
   "metadata": {},
   "outputs": [
    {
     "name": "stdout",
     "output_type": "stream",
     "text": [
      "7300\n"
     ]
    }
   ],
   "source": [
    "num_queries = np.unique(queries_train).shape[0]\n",
    "print(num_queries)"
   ]
  },
  {
   "cell_type": "code",
   "execution_count": 16,
   "id": "659eade4",
   "metadata": {},
   "outputs": [],
   "source": [
    "a = np.expand_dims(queries_train, axis = 1)\n",
    "\n",
    "X_train = np.append(X_train, a, axis = 1)\n",
    "\n",
    "X_train = X_train[X_train[:, 245].argsort()]\n",
    "\n",
    "b = np.expand_dims(queries_test, axis = 1)\n",
    "\n",
    "X_test = np.append(X_test, b, axis = 1)\n",
    "\n",
    "X_test = X_test[X_test[:, 245].argsort()]\n",
    "\n",
    "X_train = np.delete(X_train, 245, 1)\n",
    "\n",
    "X_test = np.delete(X_test, 245, 1)"
   ]
  },
  {
   "cell_type": "code",
   "execution_count": 17,
   "id": "c02e4d6f",
   "metadata": {},
   "outputs": [],
   "source": [
    "train = Pool(\n",
    "    data=X_train,\n",
    "    label=y_train,\n",
    "    group_id=queries_train\n",
    ")\n",
    "\n",
    "test = Pool(\n",
    "    data=X_test,\n",
    "    label=y_test,\n",
    "    group_id=queries_test\n",
    ")"
   ]
  },
  {
   "cell_type": "code",
   "execution_count": 18,
   "id": "cc1a489c",
   "metadata": {},
   "outputs": [],
   "source": [
    "default_parameters = {\n",
    "    'iterations': 2000,\n",
    "    'custom_metric': ['NDCG', 'PFound', 'AverageGain:top=10'],\n",
    "    'verbose': False,\n",
    "    'random_seed': 0,\n",
    "}\n",
    "\n",
    "parameters = {}"
   ]
  },
  {
   "cell_type": "code",
   "execution_count": 19,
   "id": "066fdb38",
   "metadata": {},
   "outputs": [],
   "source": [
    "def fit_model(loss_function, additional_params=None, train_pool=train, test_pool=test):\n",
    "    parameters = deepcopy(default_parameters)\n",
    "    parameters['loss_function'] = loss_function\n",
    "    parameters['train_dir'] = loss_function\n",
    "    \n",
    "    if additional_params is not None:\n",
    "        parameters.update(additional_params)\n",
    "        \n",
    "    model = CatBoostRanker(**parameters)\n",
    "    model.fit(train_pool, eval_set=test_pool, plot=True)\n",
    "    \n",
    "    return model"
   ]
  },
  {
   "cell_type": "code",
   "execution_count": 20,
   "id": "456e88dd",
   "metadata": {
    "scrolled": true
   },
   "outputs": [
    {
     "data": {
      "application/vnd.jupyter.widget-view+json": {
       "model_id": "406ce41ca6114365a526a62e10e8ab74",
       "version_major": 2,
       "version_minor": 0
      },
      "text/plain": [
       "MetricVisualizer(layout=Layout(align_self='stretch', height='500px'))"
      ]
     },
     "metadata": {},
     "output_type": "display_data"
    },
    {
     "name": "stdout",
     "output_type": "stream",
     "text": [
      "CPU times: total: 20min 2s\n",
      "Wall time: 8min 26s\n"
     ]
    },
    {
     "data": {
      "text/plain": [
       "<catboost.core.CatBoostRanker at 0x18d78886a90>"
      ]
     },
     "execution_count": 20,
     "metadata": {},
     "output_type": "execute_result"
    }
   ],
   "source": [
    "%%time\n",
    "\n",
    "fit_model('PairLogit')"
   ]
  },
  {
   "cell_type": "code",
   "execution_count": 21,
   "id": "65c821b7",
   "metadata": {},
   "outputs": [
    {
     "data": {
      "application/vnd.jupyter.widget-view+json": {
       "model_id": "1b9d4d82519b4bc0b3d7f197c592ecdc",
       "version_major": 2,
       "version_minor": 0
      },
      "text/plain": [
       "MetricVisualizer(layout=Layout(align_self='stretch', height='500px'))"
      ]
     },
     "metadata": {},
     "output_type": "display_data"
    },
    {
     "name": "stdout",
     "output_type": "stream",
     "text": [
      "CPU times: total: 3h 18min 33s\n",
      "Wall time: 51min 56s\n"
     ]
    },
    {
     "data": {
      "text/plain": [
       "<catboost.core.CatBoostRanker at 0x18d7885daf0>"
      ]
     },
     "execution_count": 21,
     "metadata": {},
     "output_type": "execute_result"
    }
   ],
   "source": [
    "%%time\n",
    "\n",
    "fit_model('PairLogitPairwise')"
   ]
  },
  {
   "cell_type": "code",
   "execution_count": 22,
   "id": "0d077660",
   "metadata": {},
   "outputs": [
    {
     "data": {
      "application/vnd.jupyter.widget-view+json": {
       "model_id": "6e4bfd11d7de47c8a42adcabc06755f3",
       "version_major": 2,
       "version_minor": 0
      },
      "text/plain": [
       "MetricVisualizer(layout=Layout(align_self='stretch', height='500px'))"
      ]
     },
     "metadata": {},
     "output_type": "display_data"
    },
    {
     "name": "stdout",
     "output_type": "stream",
     "text": [
      "CPU times: total: 16min 37s\n",
      "Wall time: 2min 52s\n"
     ]
    },
    {
     "data": {
      "text/plain": [
       "<catboost.core.CatBoostRanker at 0x18d75cc8610>"
      ]
     },
     "execution_count": 22,
     "metadata": {},
     "output_type": "execute_result"
    }
   ],
   "source": [
    "%%time\n",
    "\n",
    "fit_model('YetiRank')"
   ]
  },
  {
   "cell_type": "code",
   "execution_count": 23,
   "id": "365e001b",
   "metadata": {},
   "outputs": [
    {
     "data": {
      "application/vnd.jupyter.widget-view+json": {
       "model_id": "07d41d50ffda4ba5a97095ebe3b2c6c3",
       "version_major": 2,
       "version_minor": 0
      },
      "text/plain": [
       "MetricVisualizer(layout=Layout(align_self='stretch', height='500px'))"
      ]
     },
     "metadata": {},
     "output_type": "display_data"
    },
    {
     "name": "stdout",
     "output_type": "stream",
     "text": [
      "CPU times: total: 1h 44min 22s\n",
      "Wall time: 15min 58s\n"
     ]
    },
    {
     "data": {
      "text/plain": [
       "<catboost.core.CatBoostRanker at 0x18d78886bb0>"
      ]
     },
     "execution_count": 23,
     "metadata": {},
     "output_type": "execute_result"
    }
   ],
   "source": [
    "%%time\n",
    "\n",
    "fit_model('YetiRankPairwise')"
   ]
  }
 ],
 "metadata": {
  "kernelspec": {
   "display_name": "Python 3 (ipykernel)",
   "language": "python",
   "name": "python3"
  },
  "language_info": {
   "codemirror_mode": {
    "name": "ipython",
    "version": 3
   },
   "file_extension": ".py",
   "mimetype": "text/x-python",
   "name": "python",
   "nbconvert_exporter": "python",
   "pygments_lexer": "ipython3",
   "version": "3.9.13"
  }
 },
 "nbformat": 4,
 "nbformat_minor": 5
}
